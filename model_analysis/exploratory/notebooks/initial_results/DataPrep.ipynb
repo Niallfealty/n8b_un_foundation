{
 "cells": [
  {
   "cell_type": "code",
   "execution_count": 1,
   "id": "2cadee32-39c7-4b81-a620-b514bef3e597",
   "metadata": {
    "tags": []
   },
   "outputs": [],
   "source": [
    "from matplotlib import pyplot as plt\n",
    "\n",
    "import pandas as pd\n",
    "import numpy as np\n",
    "import seaborn as sns\n",
    "\n",
    "import os"
   ]
  },
  {
   "cell_type": "code",
   "execution_count": 21,
   "id": "203344f9-e429-48dc-8ded-b622f680d9c4",
   "metadata": {
    "tags": []
   },
   "outputs": [],
   "source": [
    "\"\"\" Data locations\n",
    "\"\"\"\n",
    "\n",
    "unpd_root = \"../../data/unpd_data\"\n",
    "gbd_root = \"../../data/gbd_data\"\n",
    "\n",
    "prepped_data_root = \"../../data/prepared_data\""
   ]
  },
  {
   "cell_type": "markdown",
   "id": "49e32aec-7316-44a9-bcf7-001968789b0d",
   "metadata": {},
   "source": [
    "# UN Data\n",
    "\n",
    "Extract a \"World\" subset for working with on plotting, global forecasts and working out next 8BN"
   ]
  },
  {
   "cell_type": "code",
   "execution_count": 12,
   "id": "c043a6e6-82ab-459a-99a7-092de669193f",
   "metadata": {
    "tags": []
   },
   "outputs": [],
   "source": [
    "unpd_scenarios = [\"High\",\"Medium\",\"Low\"]"
   ]
  },
  {
   "cell_type": "code",
   "execution_count": 4,
   "id": "f5fdeada-d7a5-4b20-859a-b7fb527c1559",
   "metadata": {
    "tags": []
   },
   "outputs": [],
   "source": [
    "df_unpd_medium_indicators = pd.read_csv(\n",
    "    os.path.join(unpd_root, \"WPP2022_Demographic_Indicators_Medium.csv\"),\n",
    "    low_memory=False\n",
    ")\n",
    "df_unpd_other_indicators = pd.read_csv(\n",
    "    os.path.join(unpd_root, \"WPP2022_Demographic_Indicators_OtherVariants.csv\"),\n",
    "    low_memory=False\n",
    ")"
   ]
  },
  {
   "cell_type": "code",
   "execution_count": null,
   "id": "ecb6c9e4-3977-469e-bc21-03bba22cc6b4",
   "metadata": {
    "tags": []
   },
   "outputs": [],
   "source": []
  },
  {
   "cell_type": "code",
   "execution_count": 5,
   "id": "0cf9abaf-f526-4b2a-9809-3535efa17ffc",
   "metadata": {
    "tags": []
   },
   "outputs": [],
   "source": [
    "df_unpd_all_indicators = pd.concat(\n",
    "    [df_unpd_medium_indicators, df_unpd_other_indicators]\n",
    ")"
   ]
  },
  {
   "cell_type": "code",
   "execution_count": 13,
   "id": "af03d230-1d0e-4c1d-bcac-15b26385b1a6",
   "metadata": {
    "tags": []
   },
   "outputs": [],
   "source": [
    "df_unpd_all_indicators_scenario_filter = df_unpd_all_indicators[\n",
    "    df_unpd_all_indicators.Variant.apply(lambda v: v in unpd_scenarios)\n",
    "]"
   ]
  },
  {
   "cell_type": "code",
   "execution_count": 19,
   "id": "8b1d7403-8ad5-4453-8cdd-02d1362e4342",
   "metadata": {
    "tags": []
   },
   "outputs": [],
   "source": [
    "df_unpd_world_indicators = df_unpd_all_indicators_scenario_filter[df_unpd_all_indicators_scenario_filter.Location==\"World\"]"
   ]
  },
  {
   "cell_type": "code",
   "execution_count": 20,
   "id": "22c6357f-05d1-4b88-aa6a-88a18b67245f",
   "metadata": {
    "tags": []
   },
   "outputs": [
    {
     "data": {
      "text/html": [
       "<div>\n",
       "<style scoped>\n",
       "    .dataframe tbody tr th:only-of-type {\n",
       "        vertical-align: middle;\n",
       "    }\n",
       "\n",
       "    .dataframe tbody tr th {\n",
       "        vertical-align: top;\n",
       "    }\n",
       "\n",
       "    .dataframe thead th {\n",
       "        text-align: right;\n",
       "    }\n",
       "</style>\n",
       "<table border=\"1\" class=\"dataframe\">\n",
       "  <thead>\n",
       "    <tr style=\"text-align: right;\">\n",
       "      <th></th>\n",
       "      <th>SortOrder</th>\n",
       "      <th>LocID</th>\n",
       "      <th>Notes</th>\n",
       "      <th>ISO3_code</th>\n",
       "      <th>ISO2_code</th>\n",
       "      <th>SDMX_code</th>\n",
       "      <th>LocTypeID</th>\n",
       "      <th>LocTypeName</th>\n",
       "      <th>ParentID</th>\n",
       "      <th>Location</th>\n",
       "      <th>...</th>\n",
       "      <th>Q0060Male</th>\n",
       "      <th>Q0060Female</th>\n",
       "      <th>Q1550</th>\n",
       "      <th>Q1550Male</th>\n",
       "      <th>Q1550Female</th>\n",
       "      <th>Q1560</th>\n",
       "      <th>Q1560Male</th>\n",
       "      <th>Q1560Female</th>\n",
       "      <th>NetMigrations</th>\n",
       "      <th>CNMR</th>\n",
       "    </tr>\n",
       "  </thead>\n",
       "  <tbody>\n",
       "    <tr>\n",
       "      <th>0</th>\n",
       "      <td>1</td>\n",
       "      <td>900</td>\n",
       "      <td>NaN</td>\n",
       "      <td>NaN</td>\n",
       "      <td>NaN</td>\n",
       "      <td>1.0</td>\n",
       "      <td>1</td>\n",
       "      <td>World</td>\n",
       "      <td>0</td>\n",
       "      <td>World</td>\n",
       "      <td>...</td>\n",
       "      <td>580.7496</td>\n",
       "      <td>498.0396</td>\n",
       "      <td>240.3164</td>\n",
       "      <td>271.6253</td>\n",
       "      <td>208.1916</td>\n",
       "      <td>378.6968</td>\n",
       "      <td>430.2594</td>\n",
       "      <td>324.9308</td>\n",
       "      <td>0.0</td>\n",
       "      <td>0.0</td>\n",
       "    </tr>\n",
       "    <tr>\n",
       "      <th>1</th>\n",
       "      <td>1</td>\n",
       "      <td>900</td>\n",
       "      <td>NaN</td>\n",
       "      <td>NaN</td>\n",
       "      <td>NaN</td>\n",
       "      <td>1.0</td>\n",
       "      <td>1</td>\n",
       "      <td>World</td>\n",
       "      <td>0</td>\n",
       "      <td>World</td>\n",
       "      <td>...</td>\n",
       "      <td>566.7283</td>\n",
       "      <td>490.1993</td>\n",
       "      <td>231.1772</td>\n",
       "      <td>258.0905</td>\n",
       "      <td>203.7797</td>\n",
       "      <td>368.3186</td>\n",
       "      <td>415.8362</td>\n",
       "      <td>319.3364</td>\n",
       "      <td>0.0</td>\n",
       "      <td>0.0</td>\n",
       "    </tr>\n",
       "    <tr>\n",
       "      <th>2</th>\n",
       "      <td>1</td>\n",
       "      <td>900</td>\n",
       "      <td>NaN</td>\n",
       "      <td>NaN</td>\n",
       "      <td>NaN</td>\n",
       "      <td>1.0</td>\n",
       "      <td>1</td>\n",
       "      <td>World</td>\n",
       "      <td>0</td>\n",
       "      <td>World</td>\n",
       "      <td>...</td>\n",
       "      <td>546.3173</td>\n",
       "      <td>477.2639</td>\n",
       "      <td>218.6745</td>\n",
       "      <td>240.0344</td>\n",
       "      <td>197.1422</td>\n",
       "      <td>353.0546</td>\n",
       "      <td>395.5327</td>\n",
       "      <td>309.9103</td>\n",
       "      <td>0.0</td>\n",
       "      <td>0.0</td>\n",
       "    </tr>\n",
       "    <tr>\n",
       "      <th>3</th>\n",
       "      <td>1</td>\n",
       "      <td>900</td>\n",
       "      <td>NaN</td>\n",
       "      <td>NaN</td>\n",
       "      <td>NaN</td>\n",
       "      <td>1.0</td>\n",
       "      <td>1</td>\n",
       "      <td>World</td>\n",
       "      <td>0</td>\n",
       "      <td>World</td>\n",
       "      <td>...</td>\n",
       "      <td>535.8289</td>\n",
       "      <td>469.5325</td>\n",
       "      <td>212.8720</td>\n",
       "      <td>232.6019</td>\n",
       "      <td>193.0492</td>\n",
       "      <td>345.0826</td>\n",
       "      <td>385.8433</td>\n",
       "      <td>303.9053</td>\n",
       "      <td>0.0</td>\n",
       "      <td>0.0</td>\n",
       "    </tr>\n",
       "    <tr>\n",
       "      <th>4</th>\n",
       "      <td>1</td>\n",
       "      <td>900</td>\n",
       "      <td>NaN</td>\n",
       "      <td>NaN</td>\n",
       "      <td>NaN</td>\n",
       "      <td>1.0</td>\n",
       "      <td>1</td>\n",
       "      <td>World</td>\n",
       "      <td>0</td>\n",
       "      <td>World</td>\n",
       "      <td>...</td>\n",
       "      <td>523.1236</td>\n",
       "      <td>458.4842</td>\n",
       "      <td>205.7622</td>\n",
       "      <td>224.0498</td>\n",
       "      <td>187.4439</td>\n",
       "      <td>335.4420</td>\n",
       "      <td>374.6576</td>\n",
       "      <td>295.9944</td>\n",
       "      <td>0.0</td>\n",
       "      <td>0.0</td>\n",
       "    </tr>\n",
       "    <tr>\n",
       "      <th>...</th>\n",
       "      <td>...</td>\n",
       "      <td>...</td>\n",
       "      <td>...</td>\n",
       "      <td>...</td>\n",
       "      <td>...</td>\n",
       "      <td>...</td>\n",
       "      <td>...</td>\n",
       "      <td>...</td>\n",
       "      <td>...</td>\n",
       "      <td>...</td>\n",
       "      <td>...</td>\n",
       "      <td>...</td>\n",
       "      <td>...</td>\n",
       "      <td>...</td>\n",
       "      <td>...</td>\n",
       "      <td>...</td>\n",
       "      <td>...</td>\n",
       "      <td>...</td>\n",
       "      <td>...</td>\n",
       "      <td>...</td>\n",
       "      <td>...</td>\n",
       "    </tr>\n",
       "    <tr>\n",
       "      <th>155</th>\n",
       "      <td>1</td>\n",
       "      <td>900</td>\n",
       "      <td>NaN</td>\n",
       "      <td>NaN</td>\n",
       "      <td>NaN</td>\n",
       "      <td>1.0</td>\n",
       "      <td>1</td>\n",
       "      <td>World</td>\n",
       "      <td>0</td>\n",
       "      <td>World</td>\n",
       "      <td>...</td>\n",
       "      <td>122.0912</td>\n",
       "      <td>75.3816</td>\n",
       "      <td>42.0803</td>\n",
       "      <td>52.6144</td>\n",
       "      <td>31.2046</td>\n",
       "      <td>82.1630</td>\n",
       "      <td>101.6896</td>\n",
       "      <td>62.0157</td>\n",
       "      <td>0.0</td>\n",
       "      <td>0.0</td>\n",
       "    </tr>\n",
       "    <tr>\n",
       "      <th>156</th>\n",
       "      <td>1</td>\n",
       "      <td>900</td>\n",
       "      <td>NaN</td>\n",
       "      <td>NaN</td>\n",
       "      <td>NaN</td>\n",
       "      <td>1.0</td>\n",
       "      <td>1</td>\n",
       "      <td>World</td>\n",
       "      <td>0</td>\n",
       "      <td>World</td>\n",
       "      <td>...</td>\n",
       "      <td>120.9810</td>\n",
       "      <td>74.5713</td>\n",
       "      <td>41.6958</td>\n",
       "      <td>52.1708</td>\n",
       "      <td>30.8825</td>\n",
       "      <td>81.3941</td>\n",
       "      <td>100.8012</td>\n",
       "      <td>61.3725</td>\n",
       "      <td>0.0</td>\n",
       "      <td>0.0</td>\n",
       "    </tr>\n",
       "    <tr>\n",
       "      <th>157</th>\n",
       "      <td>1</td>\n",
       "      <td>900</td>\n",
       "      <td>NaN</td>\n",
       "      <td>NaN</td>\n",
       "      <td>NaN</td>\n",
       "      <td>1.0</td>\n",
       "      <td>1</td>\n",
       "      <td>World</td>\n",
       "      <td>0</td>\n",
       "      <td>World</td>\n",
       "      <td>...</td>\n",
       "      <td>119.8785</td>\n",
       "      <td>73.7692</td>\n",
       "      <td>41.3176</td>\n",
       "      <td>51.7328</td>\n",
       "      <td>30.5672</td>\n",
       "      <td>80.6444</td>\n",
       "      <td>99.9306</td>\n",
       "      <td>60.7502</td>\n",
       "      <td>0.0</td>\n",
       "      <td>0.0</td>\n",
       "    </tr>\n",
       "    <tr>\n",
       "      <th>158</th>\n",
       "      <td>1</td>\n",
       "      <td>900</td>\n",
       "      <td>NaN</td>\n",
       "      <td>NaN</td>\n",
       "      <td>NaN</td>\n",
       "      <td>1.0</td>\n",
       "      <td>1</td>\n",
       "      <td>World</td>\n",
       "      <td>0</td>\n",
       "      <td>World</td>\n",
       "      <td>...</td>\n",
       "      <td>118.7821</td>\n",
       "      <td>73.0390</td>\n",
       "      <td>40.9472</td>\n",
       "      <td>51.2861</td>\n",
       "      <td>30.2770</td>\n",
       "      <td>79.9215</td>\n",
       "      <td>99.0661</td>\n",
       "      <td>60.1766</td>\n",
       "      <td>0.0</td>\n",
       "      <td>0.0</td>\n",
       "    </tr>\n",
       "    <tr>\n",
       "      <th>159</th>\n",
       "      <td>1</td>\n",
       "      <td>900</td>\n",
       "      <td>NaN</td>\n",
       "      <td>NaN</td>\n",
       "      <td>NaN</td>\n",
       "      <td>1.0</td>\n",
       "      <td>1</td>\n",
       "      <td>World</td>\n",
       "      <td>0</td>\n",
       "      <td>World</td>\n",
       "      <td>...</td>\n",
       "      <td>NaN</td>\n",
       "      <td>NaN</td>\n",
       "      <td>NaN</td>\n",
       "      <td>NaN</td>\n",
       "      <td>NaN</td>\n",
       "      <td>NaN</td>\n",
       "      <td>NaN</td>\n",
       "      <td>NaN</td>\n",
       "      <td>NaN</td>\n",
       "      <td>NaN</td>\n",
       "    </tr>\n",
       "  </tbody>\n",
       "</table>\n",
       "<p>312 rows × 67 columns</p>\n",
       "</div>"
      ],
      "text/plain": [
       "     SortOrder  LocID Notes ISO3_code ISO2_code  SDMX_code  LocTypeID   \n",
       "0            1    900   NaN       NaN       NaN        1.0          1  \\\n",
       "1            1    900   NaN       NaN       NaN        1.0          1   \n",
       "2            1    900   NaN       NaN       NaN        1.0          1   \n",
       "3            1    900   NaN       NaN       NaN        1.0          1   \n",
       "4            1    900   NaN       NaN       NaN        1.0          1   \n",
       "..         ...    ...   ...       ...       ...        ...        ...   \n",
       "155          1    900   NaN       NaN       NaN        1.0          1   \n",
       "156          1    900   NaN       NaN       NaN        1.0          1   \n",
       "157          1    900   NaN       NaN       NaN        1.0          1   \n",
       "158          1    900   NaN       NaN       NaN        1.0          1   \n",
       "159          1    900   NaN       NaN       NaN        1.0          1   \n",
       "\n",
       "    LocTypeName  ParentID Location  ...  Q0060Male Q0060Female     Q1550   \n",
       "0         World         0    World  ...   580.7496    498.0396  240.3164  \\\n",
       "1         World         0    World  ...   566.7283    490.1993  231.1772   \n",
       "2         World         0    World  ...   546.3173    477.2639  218.6745   \n",
       "3         World         0    World  ...   535.8289    469.5325  212.8720   \n",
       "4         World         0    World  ...   523.1236    458.4842  205.7622   \n",
       "..          ...       ...      ...  ...        ...         ...       ...   \n",
       "155       World         0    World  ...   122.0912     75.3816   42.0803   \n",
       "156       World         0    World  ...   120.9810     74.5713   41.6958   \n",
       "157       World         0    World  ...   119.8785     73.7692   41.3176   \n",
       "158       World         0    World  ...   118.7821     73.0390   40.9472   \n",
       "159       World         0    World  ...        NaN         NaN       NaN   \n",
       "\n",
       "     Q1550Male  Q1550Female     Q1560  Q1560Male  Q1560Female  NetMigrations   \n",
       "0     271.6253     208.1916  378.6968   430.2594     324.9308            0.0  \\\n",
       "1     258.0905     203.7797  368.3186   415.8362     319.3364            0.0   \n",
       "2     240.0344     197.1422  353.0546   395.5327     309.9103            0.0   \n",
       "3     232.6019     193.0492  345.0826   385.8433     303.9053            0.0   \n",
       "4     224.0498     187.4439  335.4420   374.6576     295.9944            0.0   \n",
       "..         ...          ...       ...        ...          ...            ...   \n",
       "155    52.6144      31.2046   82.1630   101.6896      62.0157            0.0   \n",
       "156    52.1708      30.8825   81.3941   100.8012      61.3725            0.0   \n",
       "157    51.7328      30.5672   80.6444    99.9306      60.7502            0.0   \n",
       "158    51.2861      30.2770   79.9215    99.0661      60.1766            0.0   \n",
       "159        NaN          NaN       NaN        NaN          NaN            NaN   \n",
       "\n",
       "     CNMR  \n",
       "0     0.0  \n",
       "1     0.0  \n",
       "2     0.0  \n",
       "3     0.0  \n",
       "4     0.0  \n",
       "..    ...  \n",
       "155   0.0  \n",
       "156   0.0  \n",
       "157   0.0  \n",
       "158   0.0  \n",
       "159   NaN  \n",
       "\n",
       "[312 rows x 67 columns]"
      ]
     },
     "execution_count": 20,
     "metadata": {},
     "output_type": "execute_result"
    }
   ],
   "source": [
    "df_unpd_world_indicators"
   ]
  },
  {
   "cell_type": "code",
   "execution_count": 21,
   "id": "1af59fc2-ff2b-480c-a19b-0df720b0fe94",
   "metadata": {
    "tags": []
   },
   "outputs": [
    {
     "data": {
      "text/plain": [
       "Index(['SortOrder', 'LocID', 'Notes', 'ISO3_code', 'ISO2_code', 'SDMX_code',\n",
       "       'LocTypeID', 'LocTypeName', 'ParentID', 'Location', 'VarID', 'Variant',\n",
       "       'Time', 'TPopulation1Jan', 'TPopulation1July', 'TPopulationMale1July',\n",
       "       'TPopulationFemale1July', 'PopDensity', 'PopSexRatio', 'MedianAgePop',\n",
       "       'NatChange', 'NatChangeRT', 'PopChange', 'PopGrowthRate',\n",
       "       'DoublingTime', 'Births', 'Births1519', 'CBR', 'TFR', 'NRR', 'MAC',\n",
       "       'SRB', 'Deaths', 'DeathsMale', 'DeathsFemale', 'CDR', 'LEx', 'LExMale',\n",
       "       'LExFemale', 'LE15', 'LE15Male', 'LE15Female', 'LE65', 'LE65Male',\n",
       "       'LE65Female', 'LE80', 'LE80Male', 'LE80Female', 'InfantDeaths', 'IMR',\n",
       "       'LBsurvivingAge1', 'Under5Deaths', 'Q5', 'Q0040', 'Q0040Male',\n",
       "       'Q0040Female', 'Q0060', 'Q0060Male', 'Q0060Female', 'Q1550',\n",
       "       'Q1550Male', 'Q1550Female', 'Q1560', 'Q1560Male', 'Q1560Female',\n",
       "       'NetMigrations', 'CNMR'],\n",
       "      dtype='object')"
      ]
     },
     "execution_count": 21,
     "metadata": {},
     "output_type": "execute_result"
    }
   ],
   "source": [
    "df_unpd_world_indicators.columns"
   ]
  },
  {
   "cell_type": "code",
   "execution_count": 22,
   "id": "7259a621-efe6-4308-97c2-58b397d7d5d3",
   "metadata": {
    "tags": []
   },
   "outputs": [],
   "source": [
    "df_unpd_world_indicators.to_csv(\"../../data/prepared_data/unpd_combined_indicators.csv\")"
   ]
  },
  {
   "cell_type": "code",
   "execution_count": 23,
   "id": "cdb40c42-d223-4c7c-97ab-29f674ac4513",
   "metadata": {
    "tags": []
   },
   "outputs": [],
   "source": [
    "df_unpd_world_indicators.to_csv(\"../../data/prepared_data/unpd_world_indicators.csv\") # for global stats and working out 8BN"
   ]
  },
  {
   "cell_type": "markdown",
   "id": "f6a55273-0cda-44ca-bef2-dda13d8428be",
   "metadata": {},
   "source": [
    "# Global Burden of Disease\n",
    "\n",
    "Do the same thing with the GBD study"
   ]
  },
  {
   "cell_type": "code",
   "execution_count": 12,
   "id": "ba084852-8e8b-4173-996a-b09b0e521fde",
   "metadata": {
    "tags": []
   },
   "outputs": [],
   "source": [
    "gbd_pop_all_sex_all_age = \"../../data/gbd_data/IHME_POP_2017_2100_POP_BOTH_SEX_ALL_AGE_Y2020M05D01.CSV\"\n",
    "gbd_births = \"../../data/gbd_data/IHME_POP_2017_2100_LIVE_BIRTHS_Y2020M05D01.CSV\"\n",
    "\n",
    "gbd_scenarios = [\"Reference\",\"SDG Met Need and Education\"]"
   ]
  },
  {
   "cell_type": "code",
   "execution_count": 7,
   "id": "49b45e8a-b9f2-4a6a-a135-7efbbc025db1",
   "metadata": {
    "tags": []
   },
   "outputs": [],
   "source": [
    "df_gbd_pop_all = pd.read_csv(gbd_pop_all_sex_all_age)\n",
    "df_gbd_births = pd.read_csv(gbd_births)"
   ]
  },
  {
   "cell_type": "code",
   "execution_count": 16,
   "id": "66de8608-decd-45e9-af7e-9cb2acef477f",
   "metadata": {
    "tags": []
   },
   "outputs": [],
   "source": [
    "df_gbd_pop_all_scenario_filtered = df_gbd_pop_all[\n",
    "    df_gbd_pop_all.scenario_name.apply(lambda s: s in gbd_scenarios)\n",
    "]\n",
    "\n",
    "df_gbd_births_scenario_filtered = df_gbd_births[\n",
    "    df_gbd_births.scenario_name.apply(lambda s: s in gbd_scenarios)\n",
    "]"
   ]
  },
  {
   "cell_type": "code",
   "execution_count": 19,
   "id": "14a65fd3-a8d0-4691-8234-bd7165b7a757",
   "metadata": {
    "tags": []
   },
   "outputs": [],
   "source": [
    "df_gbd_births_global = df_gbd_births_scenario_filtered[\n",
    "    df_gbd_births_scenario_filtered.location_name==\"Global\"\n",
    "]\n",
    "\n",
    "df_gbd_pop_all_global = df_gbd_pop_all_scenario_filtered[\n",
    "    df_gbd_pop_all_scenario_filtered.location_name==\"Global\"\n",
    "]"
   ]
  },
  {
   "cell_type": "code",
   "execution_count": 22,
   "id": "d3d71f19-939f-4805-85b4-57d2f6b2ef40",
   "metadata": {
    "tags": []
   },
   "outputs": [],
   "source": [
    "df_gbd_pop_all_scenario_filtered.to_csv(os.path.join(prepped_data_root, \"gbd_scenarios_pop.csv\"))\n",
    "df_gbd_pop_all_global.to_csv(os.path.join(prepped_data_root, \"gbd_world_pop.csv\"))\n",
    "df_gbd_births_global.to_csv(os.path.join(prepped_data_root, \"gbd_world_births.csv\"))"
   ]
  },
  {
   "cell_type": "code",
   "execution_count": null,
   "id": "9d01a73d-08f4-4906-b9b8-084e41676b07",
   "metadata": {},
   "outputs": [],
   "source": []
  }
 ],
 "metadata": {
  "kernelspec": {
   "display_name": "Python 3 (ipykernel)",
   "language": "python",
   "name": "python3"
  },
  "language_info": {
   "codemirror_mode": {
    "name": "ipython",
    "version": 3
   },
   "file_extension": ".py",
   "mimetype": "text/x-python",
   "name": "python",
   "nbconvert_exporter": "python",
   "pygments_lexer": "ipython3",
   "version": "3.8.10"
  }
 },
 "nbformat": 4,
 "nbformat_minor": 5
}
