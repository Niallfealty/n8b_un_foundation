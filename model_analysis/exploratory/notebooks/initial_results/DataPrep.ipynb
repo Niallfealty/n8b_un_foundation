{
 "cells": [
  {
   "cell_type": "code",
   "execution_count": 2,
   "id": "2cadee32-39c7-4b81-a620-b514bef3e597",
   "metadata": {
    "tags": []
   },
   "outputs": [],
   "source": [
    "from matplotlib import pyplot as plt\n",
    "\n",
    "import pandas as pd\n",
    "import numpy as np\n",
    "import seaborn as sns\n",
    "\n",
    "import os"
   ]
  },
  {
   "cell_type": "code",
   "execution_count": 3,
   "id": "203344f9-e429-48dc-8ded-b622f680d9c4",
   "metadata": {
    "tags": []
   },
   "outputs": [],
   "source": [
    "\"\"\" Data locations\n",
    "\"\"\"\n",
    "\n",
    "unpd_root = \"../../data/unpd_data\"\n",
    "gbd_root = \"../../data/gbd_data\"\n",
    "\n",
    "prepped_data_root = \"../../data/prepared_data\""
   ]
  },
  {
   "cell_type": "markdown",
   "id": "49e32aec-7316-44a9-bcf7-001968789b0d",
   "metadata": {},
   "source": [
    "# UN Data\n",
    "\n",
    "Extract a \"World\" subset for working with on plotting, global forecasts and working out next 8BN"
   ]
  },
  {
   "cell_type": "code",
   "execution_count": 4,
   "id": "c043a6e6-82ab-459a-99a7-092de669193f",
   "metadata": {
    "tags": []
   },
   "outputs": [],
   "source": [
    "unpd_scenarios = [\"High\",\"Medium\",\"Low\"]"
   ]
  },
  {
   "cell_type": "code",
   "execution_count": 5,
   "id": "f5fdeada-d7a5-4b20-859a-b7fb527c1559",
   "metadata": {
    "tags": []
   },
   "outputs": [],
   "source": [
    "df_unpd_medium_indicators = pd.read_csv(\n",
    "    os.path.join(unpd_root, \"WPP2022_Demographic_Indicators_Medium.csv\"),\n",
    "    low_memory=False\n",
    ")\n",
    "df_unpd_other_indicators = pd.read_csv(\n",
    "    os.path.join(unpd_root, \"WPP2022_Demographic_Indicators_OtherVariants.csv\"),\n",
    "    low_memory=False\n",
    ")"
   ]
  },
  {
   "cell_type": "code",
   "execution_count": null,
   "id": "ecb6c9e4-3977-469e-bc21-03bba22cc6b4",
   "metadata": {
    "tags": []
   },
   "outputs": [],
   "source": []
  },
  {
   "cell_type": "code",
   "execution_count": 6,
   "id": "0cf9abaf-f526-4b2a-9809-3535efa17ffc",
   "metadata": {
    "tags": []
   },
   "outputs": [],
   "source": [
    "df_unpd_all_indicators = pd.concat(\n",
    "    [df_unpd_medium_indicators, df_unpd_other_indicators]\n",
    ")"
   ]
  },
  {
   "cell_type": "code",
   "execution_count": 7,
   "id": "af03d230-1d0e-4c1d-bcac-15b26385b1a6",
   "metadata": {
    "tags": []
   },
   "outputs": [],
   "source": [
    "df_unpd_all_indicators_scenario_filter = df_unpd_all_indicators[\n",
    "    df_unpd_all_indicators.Variant.apply(lambda v: v in unpd_scenarios)\n",
    "]"
   ]
  },
  {
   "cell_type": "code",
   "execution_count": 8,
   "id": "8b1d7403-8ad5-4453-8cdd-02d1362e4342",
   "metadata": {
    "tags": []
   },
   "outputs": [],
   "source": [
    "df_unpd_world_indicators = df_unpd_all_indicators_scenario_filter[df_unpd_all_indicators_scenario_filter.Location==\"World\"]"
   ]
  },
  {
   "cell_type": "code",
   "execution_count": 13,
   "id": "22c6357f-05d1-4b88-aa6a-88a18b67245f",
   "metadata": {
    "tags": []
   },
   "outputs": [],
   "source": [
    "df_unpd_world_indicators.loc[:,\"BirthsSingle\"] = df_unpd_world_indicators.Births*1_000"
   ]
  },
  {
   "cell_type": "code",
   "execution_count": 14,
   "id": "1af59fc2-ff2b-480c-a19b-0df720b0fe94",
   "metadata": {
    "tags": []
   },
   "outputs": [
    {
     "data": {
      "text/plain": [
       "Index(['SortOrder', 'LocID', 'Notes', 'ISO3_code', 'ISO2_code', 'SDMX_code',\n",
       "       'LocTypeID', 'LocTypeName', 'ParentID', 'Location', 'VarID', 'Variant',\n",
       "       'Time', 'TPopulation1Jan', 'TPopulation1July', 'TPopulationMale1July',\n",
       "       'TPopulationFemale1July', 'PopDensity', 'PopSexRatio', 'MedianAgePop',\n",
       "       'NatChange', 'NatChangeRT', 'PopChange', 'PopGrowthRate',\n",
       "       'DoublingTime', 'Births', 'Births1519', 'CBR', 'TFR', 'NRR', 'MAC',\n",
       "       'SRB', 'Deaths', 'DeathsMale', 'DeathsFemale', 'CDR', 'LEx', 'LExMale',\n",
       "       'LExFemale', 'LE15', 'LE15Male', 'LE15Female', 'LE65', 'LE65Male',\n",
       "       'LE65Female', 'LE80', 'LE80Male', 'LE80Female', 'InfantDeaths', 'IMR',\n",
       "       'LBsurvivingAge1', 'Under5Deaths', 'Q5', 'Q0040', 'Q0040Male',\n",
       "       'Q0040Female', 'Q0060', 'Q0060Male', 'Q0060Female', 'Q1550',\n",
       "       'Q1550Male', 'Q1550Female', 'Q1560', 'Q1560Male', 'Q1560Female',\n",
       "       'NetMigrations', 'CNMR', 'BirthsSingle'],\n",
       "      dtype='object')"
      ]
     },
     "execution_count": 14,
     "metadata": {},
     "output_type": "execute_result"
    }
   ],
   "source": [
    "df_unpd_world_indicators.columns"
   ]
  },
  {
   "cell_type": "code",
   "execution_count": 15,
   "id": "7259a621-efe6-4308-97c2-58b397d7d5d3",
   "metadata": {
    "tags": []
   },
   "outputs": [],
   "source": [
    "df_unpd_world_indicators.to_csv(\"../../data/prepared_data/unpd_combined_indicators.csv\")"
   ]
  },
  {
   "cell_type": "code",
   "execution_count": 16,
   "id": "cdb40c42-d223-4c7c-97ab-29f674ac4513",
   "metadata": {
    "tags": []
   },
   "outputs": [],
   "source": [
    "df_unpd_world_indicators.to_csv(\"../../data/prepared_data/unpd_world_indicators.csv\") # for global stats and working out 8BN"
   ]
  },
  {
   "cell_type": "markdown",
   "id": "f6a55273-0cda-44ca-bef2-dda13d8428be",
   "metadata": {},
   "source": [
    "# Global Burden of Disease\n",
    "\n",
    "Do the same thing with the GBD study"
   ]
  },
  {
   "cell_type": "code",
   "execution_count": 12,
   "id": "ba084852-8e8b-4173-996a-b09b0e521fde",
   "metadata": {
    "tags": []
   },
   "outputs": [],
   "source": [
    "gbd_pop_all_sex_all_age = \"../../data/gbd_data/IHME_POP_2017_2100_POP_BOTH_SEX_ALL_AGE_Y2020M05D01.CSV\"\n",
    "gbd_births = \"../../data/gbd_data/IHME_POP_2017_2100_LIVE_BIRTHS_Y2020M05D01.CSV\"\n",
    "\n",
    "gbd_scenarios = [\"Reference\",\"SDG Met Need and Education\"]"
   ]
  },
  {
   "cell_type": "code",
   "execution_count": 7,
   "id": "49b45e8a-b9f2-4a6a-a135-7efbbc025db1",
   "metadata": {
    "tags": []
   },
   "outputs": [],
   "source": [
    "df_gbd_pop_all = pd.read_csv(gbd_pop_all_sex_all_age)\n",
    "df_gbd_births = pd.read_csv(gbd_births)"
   ]
  },
  {
   "cell_type": "code",
   "execution_count": 16,
   "id": "66de8608-decd-45e9-af7e-9cb2acef477f",
   "metadata": {
    "tags": []
   },
   "outputs": [],
   "source": [
    "df_gbd_pop_all_scenario_filtered = df_gbd_pop_all[\n",
    "    df_gbd_pop_all.scenario_name.apply(lambda s: s in gbd_scenarios)\n",
    "]\n",
    "\n",
    "df_gbd_births_scenario_filtered = df_gbd_births[\n",
    "    df_gbd_births.scenario_name.apply(lambda s: s in gbd_scenarios)\n",
    "]"
   ]
  },
  {
   "cell_type": "code",
   "execution_count": 19,
   "id": "14a65fd3-a8d0-4691-8234-bd7165b7a757",
   "metadata": {
    "tags": []
   },
   "outputs": [],
   "source": [
    "df_gbd_births_global = df_gbd_births_scenario_filtered[\n",
    "    df_gbd_births_scenario_filtered.location_name==\"Global\"\n",
    "]\n",
    "\n",
    "df_gbd_pop_all_global = df_gbd_pop_all_scenario_filtered[\n",
    "    df_gbd_pop_all_scenario_filtered.location_name==\"Global\"\n",
    "]"
   ]
  },
  {
   "cell_type": "code",
   "execution_count": 22,
   "id": "d3d71f19-939f-4805-85b4-57d2f6b2ef40",
   "metadata": {
    "tags": []
   },
   "outputs": [],
   "source": [
    "df_gbd_pop_all_scenario_filtered.to_csv(os.path.join(prepped_data_root, \"gbd_scenarios_pop.csv\"))\n",
    "df_gbd_pop_all_global.to_csv(os.path.join(prepped_data_root, \"gbd_world_pop.csv\"))\n",
    "df_gbd_births_global.to_csv(os.path.join(prepped_data_root, \"gbd_world_births.csv\"))"
   ]
  },
  {
   "cell_type": "code",
   "execution_count": null,
   "id": "9d01a73d-08f4-4906-b9b8-084e41676b07",
   "metadata": {},
   "outputs": [],
   "source": []
  }
 ],
 "metadata": {
  "kernelspec": {
   "display_name": "Python 3 (ipykernel)",
   "language": "python",
   "name": "python3"
  },
  "language_info": {
   "codemirror_mode": {
    "name": "ipython",
    "version": 3
   },
   "file_extension": ".py",
   "mimetype": "text/x-python",
   "name": "python",
   "nbconvert_exporter": "python",
   "pygments_lexer": "ipython3",
   "version": "3.8.10"
  }
 },
 "nbformat": 4,
 "nbformat_minor": 5
}
