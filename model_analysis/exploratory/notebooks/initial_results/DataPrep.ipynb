{
 "cells": [
  {
   "cell_type": "code",
   "execution_count": 2,
   "id": "2cadee32-39c7-4b81-a620-b514bef3e597",
   "metadata": {
    "tags": []
   },
   "outputs": [],
   "source": [
    "from matplotlib import pyplot as plt\n",
    "\n",
    "import pandas as pd\n",
    "import numpy as np\n",
    "import seaborn as sns\n",
    "\n",
    "import os"
   ]
  },
  {
   "cell_type": "code",
   "execution_count": 3,
   "id": "203344f9-e429-48dc-8ded-b622f680d9c4",
   "metadata": {
    "tags": []
   },
   "outputs": [],
   "source": [
    "\"\"\" Data locations\n",
    "\"\"\"\n",
    "\n",
    "unpd_root = \"../../data/unpd_data\"\n",
    "gbd_root = \"../../data/gbd_data\"\n",
    "\n",
    "prepped_data_root = \"../../data/prepared_data\""
   ]
  },
  {
   "cell_type": "markdown",
   "id": "49e32aec-7316-44a9-bcf7-001968789b0d",
   "metadata": {},
   "source": [
    "# UN Data\n",
    "\n",
    "Extract a \"World\" subset for working with on plotting, global forecasts and working out next 8BN"
   ]
  },
  {
   "cell_type": "code",
   "execution_count": 4,
   "id": "c043a6e6-82ab-459a-99a7-092de669193f",
   "metadata": {
    "tags": []
   },
   "outputs": [],
   "source": [
    "unpd_scenarios = [\"High\",\"Medium\",\"Low\"]"
   ]
  },
  {
   "cell_type": "code",
   "execution_count": 5,
   "id": "f5fdeada-d7a5-4b20-859a-b7fb527c1559",
   "metadata": {
    "tags": []
   },
   "outputs": [],
   "source": [
    "df_unpd_medium_indicators = pd.read_csv(\n",
    "    os.path.join(unpd_root, \"WPP2022_Demographic_Indicators_Medium.csv\"),\n",
    "    low_memory=False\n",
    ")\n",
    "df_unpd_other_indicators = pd.read_csv(\n",
    "    os.path.join(unpd_root, \"WPP2022_Demographic_Indicators_OtherVariants.csv\"),\n",
    "    low_memory=False\n",
    ")"
   ]
  },
  {
   "cell_type": "code",
   "execution_count": null,
   "id": "ecb6c9e4-3977-469e-bc21-03bba22cc6b4",
   "metadata": {
    "tags": []
   },
   "outputs": [],
   "source": []
  },
  {
   "cell_type": "code",
   "execution_count": 6,
   "id": "0cf9abaf-f526-4b2a-9809-3535efa17ffc",
   "metadata": {
    "tags": []
   },
   "outputs": [],
   "source": [
    "df_unpd_all_indicators = pd.concat(\n",
    "    [df_unpd_medium_indicators, df_unpd_other_indicators]\n",
    ")"
   ]
  },
  {
   "cell_type": "code",
   "execution_count": 7,
   "id": "af03d230-1d0e-4c1d-bcac-15b26385b1a6",
   "metadata": {
    "tags": []
   },
   "outputs": [],
   "source": [
    "df_unpd_all_indicators_scenario_filter = df_unpd_all_indicators[\n",
    "    df_unpd_all_indicators.Variant.apply(lambda v: v in unpd_scenarios)\n",
    "]"
   ]
  },
  {
   "cell_type": "code",
   "execution_count": 8,
   "id": "8b1d7403-8ad5-4453-8cdd-02d1362e4342",
   "metadata": {
    "tags": []
   },
   "outputs": [],
   "source": [
    "df_unpd_world_indicators = df_unpd_all_indicators_scenario_filter[df_unpd_all_indicators_scenario_filter.Location==\"World\"]"
   ]
  },
  {
   "cell_type": "code",
   "execution_count": 13,
   "id": "22c6357f-05d1-4b88-aa6a-88a18b67245f",
   "metadata": {
    "tags": []
   },
   "outputs": [],
   "source": [
    "df_unpd_world_indicators.loc[:,\"BirthsSingle\"] = df_unpd_world_indicators.Births*1_000"
   ]
  },
  {
   "cell_type": "code",
   "execution_count": 14,
   "id": "1af59fc2-ff2b-480c-a19b-0df720b0fe94",
   "metadata": {
    "tags": []
   },
   "outputs": [
    {
     "data": {
      "text/plain": [
       "Index(['SortOrder', 'LocID', 'Notes', 'ISO3_code', 'ISO2_code', 'SDMX_code',\n",
       "       'LocTypeID', 'LocTypeName', 'ParentID', 'Location', 'VarID', 'Variant',\n",
       "       'Time', 'TPopulation1Jan', 'TPopulation1July', 'TPopulationMale1July',\n",
       "       'TPopulationFemale1July', 'PopDensity', 'PopSexRatio', 'MedianAgePop',\n",
       "       'NatChange', 'NatChangeRT', 'PopChange', 'PopGrowthRate',\n",
       "       'DoublingTime', 'Births', 'Births1519', 'CBR', 'TFR', 'NRR', 'MAC',\n",
       "       'SRB', 'Deaths', 'DeathsMale', 'DeathsFemale', 'CDR', 'LEx', 'LExMale',\n",
       "       'LExFemale', 'LE15', 'LE15Male', 'LE15Female', 'LE65', 'LE65Male',\n",
       "       'LE65Female', 'LE80', 'LE80Male', 'LE80Female', 'InfantDeaths', 'IMR',\n",
       "       'LBsurvivingAge1', 'Under5Deaths', 'Q5', 'Q0040', 'Q0040Male',\n",
       "       'Q0040Female', 'Q0060', 'Q0060Male', 'Q0060Female', 'Q1550',\n",
       "       'Q1550Male', 'Q1550Female', 'Q1560', 'Q1560Male', 'Q1560Female',\n",
       "       'NetMigrations', 'CNMR', 'BirthsSingle'],\n",
       "      dtype='object')"
      ]
     },
     "execution_count": 14,
     "metadata": {},
     "output_type": "execute_result"
    }
   ],
   "source": [
    "df_unpd_world_indicators.columns"
   ]
  },
  {
   "cell_type": "code",
   "execution_count": 15,
   "id": "7259a621-efe6-4308-97c2-58b397d7d5d3",
   "metadata": {
    "tags": []
   },
   "outputs": [],
   "source": [
    "df_unpd_world_indicators.to_csv(\"../../data/prepared_data/unpd_combined_indicators.csv\")"
   ]
  },
  {
   "cell_type": "code",
   "execution_count": 16,
   "id": "cdb40c42-d223-4c7c-97ab-29f674ac4513",
   "metadata": {
    "tags": []
   },
   "outputs": [],
   "source": [
    "df_unpd_world_indicators.to_csv(\"../../data/prepared_data/unpd_world_indicators.csv\") # for global stats and working out 8BN"
   ]
  },
  {
   "cell_type": "markdown",
   "id": "f6a55273-0cda-44ca-bef2-dda13d8428be",
   "metadata": {},
   "source": [
    "# Global Burden of Disease\n",
    "\n",
    "Do the same thing with the GBD study"
   ]
  },
  {
   "cell_type": "code",
   "execution_count": 12,
   "id": "ba084852-8e8b-4173-996a-b09b0e521fde",
   "metadata": {
    "tags": []
   },
   "outputs": [],
   "source": [
    "gbd_pop_all_sex_all_age = \"../../data/gbd_data/IHME_POP_2017_2100_POP_BOTH_SEX_ALL_AGE_Y2020M05D01.CSV\"\n",
    "gbd_births = \"../../data/gbd_data/IHME_POP_2017_2100_LIVE_BIRTHS_Y2020M05D01.CSV\"\n",
    "\n",
    "gbd_scenarios = [\"Reference\",\"SDG Met Need and Education\"]"
   ]
  },
  {
   "cell_type": "code",
   "execution_count": 7,
   "id": "49b45e8a-b9f2-4a6a-a135-7efbbc025db1",
   "metadata": {
    "tags": []
   },
   "outputs": [],
   "source": [
    "df_gbd_pop_all = pd.read_csv(gbd_pop_all_sex_all_age)\n",
    "df_gbd_births = pd.read_csv(gbd_births)"
   ]
  },
  {
   "cell_type": "code",
   "execution_count": 16,
   "id": "66de8608-decd-45e9-af7e-9cb2acef477f",
   "metadata": {
    "tags": []
   },
   "outputs": [],
   "source": [
    "df_gbd_pop_all_scenario_filtered = df_gbd_pop_all[\n",
    "    df_gbd_pop_all.scenario_name.apply(lambda s: s in gbd_scenarios)\n",
    "]\n",
    "\n",
    "df_gbd_births_scenario_filtered = df_gbd_births[\n",
    "    df_gbd_births.scenario_name.apply(lambda s: s in gbd_scenarios)\n",
    "]"
   ]
  },
  {
   "cell_type": "code",
   "execution_count": 19,
   "id": "14a65fd3-a8d0-4691-8234-bd7165b7a757",
   "metadata": {
    "tags": []
   },
   "outputs": [],
   "source": [
    "df_gbd_births_global = df_gbd_births_scenario_filtered[\n",
    "    df_gbd_births_scenario_filtered.location_name==\"Global\"\n",
    "]\n",
    "\n",
    "df_gbd_pop_all_global = df_gbd_pop_all_scenario_filtered[\n",
    "    df_gbd_pop_all_scenario_filtered.location_name==\"Global\"\n",
    "]"
   ]
  },
  {
   "cell_type": "code",
   "execution_count": 22,
   "id": "d3d71f19-939f-4805-85b4-57d2f6b2ef40",
   "metadata": {
    "tags": []
   },
   "outputs": [],
   "source": [
    "df_gbd_pop_all_scenario_filtered.to_csv(os.path.join(prepped_data_root, \"gbd_scenarios_pop.csv\"))\n",
    "df_gbd_pop_all_global.to_csv(os.path.join(prepped_data_root, \"gbd_world_pop.csv\"))\n",
    "df_gbd_births_global.to_csv(os.path.join(prepped_data_root, \"gbd_world_births.csv\"))"
   ]
  },
  {
   "cell_type": "markdown",
   "id": "e06b35f5-06c0-4032-9285-abd454883241",
   "metadata": {},
   "source": [
    "## Back to UNPD compute cumulative births"
   ]
  },
  {
   "cell_type": "code",
   "execution_count": 2,
   "id": "89801ed9-467b-41c7-b47d-75b27c200b77",
   "metadata": {
    "tags": []
   },
   "outputs": [],
   "source": [
    "from pandas import concat, read_csv\n",
    "\n",
    "df_unpd_all_locs = concat(\n",
    "    [\n",
    "        read_csv(\"../../data/unpd_data/WPP2022_Demographic_Indicators_Medium.csv\", low_memory=False),\n",
    "        read_csv(\"../../data/unpd_data/WPP2022_Demographic_Indicators_OtherVariants.csv\", low_memory=False)\n",
    "    ])"
   ]
  },
  {
   "cell_type": "code",
   "execution_count": 6,
   "id": "6f82f443-bca2-4dc9-b912-818bc3be7afe",
   "metadata": {
    "tags": []
   },
   "outputs": [],
   "source": [
    "df_unpd_all_locs[\"BirthsSingle\"] = df_unpd_all_locs.Births*1_000"
   ]
  },
  {
   "cell_type": "code",
   "execution_count": 18,
   "id": "7becfa9d-be31-43b2-ac24-7de0e401dbe8",
   "metadata": {
    "tags": []
   },
   "outputs": [],
   "source": [
    "df_unpd_all_locs = df_unpd_all_locs[df_unpd_all_locs.Variant.apply(lambda v: v in (\"Low\",\"Medium\",\"High\"))]"
   ]
  },
  {
   "cell_type": "code",
   "execution_count": 23,
   "id": "f618e98a-24c7-478f-b958-6c37814e54d2",
   "metadata": {
    "tags": []
   },
   "outputs": [],
   "source": [
    "\n",
    "cumulative_births_unpd = df_unpd_all_locs[(df_unpd_all_locs.Time > 2022) & (df_unpd_all_locs.Time < 2101)]\\\n",
    "    .sort_values([\"Location\",\"Variant\",\"Time\"], ascending=True)\\\n",
    "    .set_index([\"Variant\",\"Time\",\"Location\"])\\\n",
    "    .groupby([\"Variant\", \"Location\"])\\\n",
    "    .BirthsSingle\\\n",
    "    .cumsum()\\\n",
    "    .reset_index()"
   ]
  },
  {
   "cell_type": "code",
   "execution_count": 24,
   "id": "8d5e2493-7bd9-4ba1-89fe-aec29bf7a9ff",
   "metadata": {
    "tags": []
   },
   "outputs": [
    {
     "data": {
      "text/html": [
       "<div>\n",
       "<style scoped>\n",
       "    .dataframe tbody tr th:only-of-type {\n",
       "        vertical-align: middle;\n",
       "    }\n",
       "\n",
       "    .dataframe tbody tr th {\n",
       "        vertical-align: top;\n",
       "    }\n",
       "\n",
       "    .dataframe thead th {\n",
       "        text-align: right;\n",
       "    }\n",
       "</style>\n",
       "<table border=\"1\" class=\"dataframe\">\n",
       "  <thead>\n",
       "    <tr style=\"text-align: right;\">\n",
       "      <th></th>\n",
       "      <th>Variant</th>\n",
       "      <th>Time</th>\n",
       "      <th>Location</th>\n",
       "      <th>BirthsSingle</th>\n",
       "    </tr>\n",
       "  </thead>\n",
       "  <tbody>\n",
       "    <tr>\n",
       "      <th>0</th>\n",
       "      <td>High</td>\n",
       "      <td>2023</td>\n",
       "      <td>Afghanistan</td>\n",
       "      <td>1542341.0</td>\n",
       "    </tr>\n",
       "    <tr>\n",
       "      <th>1</th>\n",
       "      <td>High</td>\n",
       "      <td>2024</td>\n",
       "      <td>Afghanistan</td>\n",
       "      <td>3096794.0</td>\n",
       "    </tr>\n",
       "    <tr>\n",
       "      <th>2</th>\n",
       "      <td>High</td>\n",
       "      <td>2025</td>\n",
       "      <td>Afghanistan</td>\n",
       "      <td>4663043.0</td>\n",
       "    </tr>\n",
       "    <tr>\n",
       "      <th>3</th>\n",
       "      <td>High</td>\n",
       "      <td>2026</td>\n",
       "      <td>Afghanistan</td>\n",
       "      <td>6248250.0</td>\n",
       "    </tr>\n",
       "    <tr>\n",
       "      <th>4</th>\n",
       "      <td>High</td>\n",
       "      <td>2027</td>\n",
       "      <td>Afghanistan</td>\n",
       "      <td>7898637.0</td>\n",
       "    </tr>\n",
       "    <tr>\n",
       "      <th>...</th>\n",
       "      <td>...</td>\n",
       "      <td>...</td>\n",
       "      <td>...</td>\n",
       "      <td>...</td>\n",
       "    </tr>\n",
       "    <tr>\n",
       "      <th>66919</th>\n",
       "      <td>Medium</td>\n",
       "      <td>2096</td>\n",
       "      <td>Zimbabwe</td>\n",
       "      <td>39039139.0</td>\n",
       "    </tr>\n",
       "    <tr>\n",
       "      <th>66920</th>\n",
       "      <td>Medium</td>\n",
       "      <td>2097</td>\n",
       "      <td>Zimbabwe</td>\n",
       "      <td>39514130.0</td>\n",
       "    </tr>\n",
       "    <tr>\n",
       "      <th>66921</th>\n",
       "      <td>Medium</td>\n",
       "      <td>2098</td>\n",
       "      <td>Zimbabwe</td>\n",
       "      <td>39987212.0</td>\n",
       "    </tr>\n",
       "    <tr>\n",
       "      <th>66922</th>\n",
       "      <td>Medium</td>\n",
       "      <td>2099</td>\n",
       "      <td>Zimbabwe</td>\n",
       "      <td>40457429.0</td>\n",
       "    </tr>\n",
       "    <tr>\n",
       "      <th>66923</th>\n",
       "      <td>Medium</td>\n",
       "      <td>2100</td>\n",
       "      <td>Zimbabwe</td>\n",
       "      <td>40925757.0</td>\n",
       "    </tr>\n",
       "  </tbody>\n",
       "</table>\n",
       "<p>66924 rows × 4 columns</p>\n",
       "</div>"
      ],
      "text/plain": [
       "      Variant  Time     Location  BirthsSingle\n",
       "0        High  2023  Afghanistan     1542341.0\n",
       "1        High  2024  Afghanistan     3096794.0\n",
       "2        High  2025  Afghanistan     4663043.0\n",
       "3        High  2026  Afghanistan     6248250.0\n",
       "4        High  2027  Afghanistan     7898637.0\n",
       "...       ...   ...          ...           ...\n",
       "66919  Medium  2096     Zimbabwe    39039139.0\n",
       "66920  Medium  2097     Zimbabwe    39514130.0\n",
       "66921  Medium  2098     Zimbabwe    39987212.0\n",
       "66922  Medium  2099     Zimbabwe    40457429.0\n",
       "66923  Medium  2100     Zimbabwe    40925757.0\n",
       "\n",
       "[66924 rows x 4 columns]"
      ]
     },
     "execution_count": 24,
     "metadata": {},
     "output_type": "execute_result"
    }
   ],
   "source": [
    "cumulative_births_unpd"
   ]
  },
  {
   "cell_type": "code",
   "execution_count": 25,
   "id": "48495def-1293-4da9-992f-647294c9798f",
   "metadata": {
    "tags": []
   },
   "outputs": [],
   "source": [
    "cumulative_births_unpd.to_csv(\"../../data/prepared_data/cumulative_births_unpd_all_countries.csv\")"
   ]
  },
  {
   "cell_type": "code",
   "execution_count": 26,
   "id": "4e11ee1c-ebd0-4c7f-a474-7602c785e07c",
   "metadata": {
    "tags": []
   },
   "outputs": [
    {
     "data": {
      "text/plain": [
       "0"
      ]
     },
     "execution_count": 26,
     "metadata": {},
     "output_type": "execute_result"
    }
   ],
   "source": [
    "sum(df_unpd_all_locs.Location==\"Americas\")"
   ]
  },
  {
   "cell_type": "code",
   "execution_count": null,
   "id": "7357080c-5e77-4228-8a25-a3df06dce6e9",
   "metadata": {},
   "outputs": [],
   "source": []
  }
 ],
 "metadata": {
  "kernelspec": {
   "display_name": "Python 3 (ipykernel)",
   "language": "python",
   "name": "python3"
  },
  "language_info": {
   "codemirror_mode": {
    "name": "ipython",
    "version": 3
   },
   "file_extension": ".py",
   "mimetype": "text/x-python",
   "name": "python",
   "nbconvert_exporter": "python",
   "pygments_lexer": "ipython3",
   "version": "3.8.10"
  }
 },
 "nbformat": 4,
 "nbformat_minor": 5
}
