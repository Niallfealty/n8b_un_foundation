{
 "cells": [
  {
   "cell_type": "code",
   "execution_count": 1,
   "id": "69a4e0a1-da8b-4b06-9273-d66669554999",
   "metadata": {
    "tags": []
   },
   "outputs": [],
   "source": [
    "from pandas import read_csv"
   ]
  },
  {
   "cell_type": "markdown",
   "id": "fe0973c6-f977-4403-88b4-7b243df27924",
   "metadata": {},
   "source": [
    "# The Data\n",
    "## Overview\n",
    "\n",
    "2.\n",
    "\n",
    "(2a)\n",
    "* What sources - brief description, give some headline assumptions\n",
    "  * UNPD\n",
    "  * GBD\n",
    "  * Earth4All\n",
    "(2b)\n",
    "* Scenarios we're focusing on, maybe a plot in here with headline assumptions\n",
    "  * UNPD: High, Med, Low\n",
    "  * GBD: Reference, SDG Met Need\n",
    "  * Earth4All: Too Little Too Late, Giant Leap\n",
    "\n",
    "## Initial look at the data\n",
    "3.\n",
    "(3a)\n",
    "* Methodology\n",
    "  * Multiple ways to pull data from UNPD, API or catalogue of downloads, downloading csv simpler for exploratory work (haven't decided what we're looking for) but for specific datasets I've got some simple bits of python to wrap the API and pull in specific datasets\n",
    "  * At least for UNPD (picture is a little more complex for other forecasts) most of the useful/interesting metrics are either in the data or a relatively simple calculation\n",
    "  * One big project-specific question is \"when are the Next 8 Billion born?\"\n",
    "  * Set methodology here.\n",
    "  * Note that not all forecasts have a next 8 bn this century - suggest one could do a simple extrapolation but this overlooks the complexity of the forecasts and all the assumptions that will be broken in doing this.\n",
    "* When do we reach 8 Billion?\n",
    "  * Plot of cumulative births since 2023\n",
    "  * Maybe add (faint) lines for specific forecasts?\n",
    "  * Plot all births as well, make it a births-focused section\n",
    "* Population stats\n",
    "  * Total population\n",
    "  * Median age\n",
    "  * Dependency ratio\n",
    "  * Do all of above grouped by income groups\n",
    "  * G20, P20\n",
    "  \n",
    "# Dave wrap up"
   ]
  },
  {
   "cell_type": "code",
   "execution_count": null,
   "id": "272b6e6e-c63e-4b3a-88c8-ed75ca6792bf",
   "metadata": {},
   "outputs": [],
   "source": []
  }
 ],
 "metadata": {
  "kernelspec": {
   "display_name": "Python 3 (ipykernel)",
   "language": "python",
   "name": "python3"
  },
  "language_info": {
   "codemirror_mode": {
    "name": "ipython",
    "version": 3
   },
   "file_extension": ".py",
   "mimetype": "text/x-python",
   "name": "python",
   "nbconvert_exporter": "python",
   "pygments_lexer": "ipython3",
   "version": "3.8.10"
  }
 },
 "nbformat": 4,
 "nbformat_minor": 5
}
