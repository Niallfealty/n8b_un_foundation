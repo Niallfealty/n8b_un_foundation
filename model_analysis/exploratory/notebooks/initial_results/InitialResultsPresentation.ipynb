{
 "cells": [
  {
   "cell_type": "code",
   "execution_count": 1,
   "id": "69a4e0a1-da8b-4b06-9273-d66669554999",
   "metadata": {
    "tags": []
   },
   "outputs": [],
   "source": [
    "from pandas import read_csv, concat\n",
    "from seaborn import lineplot\n",
    "\n",
    "from matplotlib import pyplot as plt\n",
    "import squarify"
   ]
  },
  {
   "cell_type": "markdown",
   "id": "fe0973c6-f977-4403-88b4-7b243df27924",
   "metadata": {},
   "source": [
    "# The Data\n",
    "## Overview\n",
    "\n",
    "2.\n",
    "\n",
    "(2a)\n",
    "* What sources - brief description, give some headline assumptions\n",
    "  * UNPD\n",
    "  * GBD\n",
    "  * Earth4All\n",
    "(2b)\n",
    "* Scenarios we're focusing on, maybe a plot in here with headline assumptions\n",
    "  * UNPD: High, Med, Low\n",
    "  * GBD: Reference, SDG Met Need\n",
    "  * Earth4All: Too Little Too Late, Giant Leap\n",
    "\n",
    "## Initial look at the data\n",
    "3.\n",
    "(3a)\n",
    "* Methodology\n",
    "  * Multiple ways to pull data from UNPD, API or catalogue of downloads, downloading csv simpler for exploratory work (haven't decided what we're looking for) but for specific datasets I've got some simple bits of python to wrap the API and pull in specific datasets\n",
    "  * At least for UNPD (picture is a little more complex for other forecasts) most of the useful/interesting metrics are either in the data or a relatively simple calculation\n",
    "  * One big project-specific question is \"when are the Next 8 Billion born?\"\n",
    "  * Set methodology here.\n",
    "  * Note that not all forecasts have a next 8 bn this century - suggest one could do a simple extrapolation but this overlooks the complexity of the forecasts and all the assumptions that will be broken in doing this.\n",
    "* When do we reach 8 Billion?\n",
    "  * Plot of cumulative births since 2023\n",
    "  * Maybe add (faint) lines for specific forecasts?\n",
    "  * Plot all births as well, make it a births-focused section\n",
    "* Population stats\n",
    "  * Total population\n",
    "  * Median age\n",
    "  * Dependency ratio\n",
    "  * Do all of above grouped by income groups\n",
    "  * G20, P20\n",
    "  \n",
    "# Dave wrap up"
   ]
  },
  {
   "cell_type": "code",
   "execution_count": 2,
   "id": "272b6e6e-c63e-4b3a-88c8-ed75ca6792bf",
   "metadata": {
    "tags": []
   },
   "outputs": [],
   "source": [
    "\"\"\" Load all data here \"\"\"\n",
    "\"\"\n",
    "datapaths = [ # load these iteratively\n",
    "    \"../../data/prepared_data/gbd_world_births.csv\",\n",
    "    \"../../data/prepared_data/unpd_world_indicators.csv\",\n",
    "]\n",
    "\n",
    "# bigger datasets (need to unset low mem opt.) - del these from mem when out of scope\n",
    "df_all_locs = concat(\n",
    "    [\n",
    "        read_csv(\"../../data/unpd_data/WPP2022_Demographic_Indicators_Medium.csv\", low_memory=False),\n",
    "        read_csv(\"../../data/unpd_data/WPP2022_Demographic_Indicators_OtherVariants.csv\", low_memory=False)\n",
    "    ])"
   ]
  },
  {
   "cell_type": "code",
   "execution_count": 12,
   "id": "8de83966-f0d9-436f-adfb-ad82910ef392",
   "metadata": {
    "tags": []
   },
   "outputs": [
    {
     "data": {
      "text/plain": [
       "(0.0, 100.0, 0.0, 100.0)"
      ]
     },
     "execution_count": 12,
     "metadata": {},
     "output_type": "execute_result"
    },
    {
     "data": {
      "image/png": "[encoded data removed]",
      "text/plain": [
       "<Figure size 640x480 with 1 Axes>"
      ]
     },
     "metadata": {},
     "output_type": "display_data"
    }
   ],
   "source": [
    "# in case we want to use this later\n",
    "\n",
    "test_data = {\n",
    "             \"biggest\": 10,\n",
    "             \"next biggest\": 8,\"next smallest\": 5,\n",
    "             \"smallest\": 1\n",
    "            }\n",
    "squarify.plot(test_data.values(), label=[f\"{k} ({v})\" for k,v in test_data.items()])\n",
    "plt.axis(\"off\")"
   ]
  },
  {
   "cell_type": "code",
   "execution_count": 13,
   "id": "6af4d065-ba17-4bf3-b357-ecd2d4ef524e",
   "metadata": {
    "tags": []
   },
   "outputs": [],
   "source": []
  },
  {
   "cell_type": "code",
   "execution_count": null,
   "id": "fc2162e6-c2bb-45ed-ac54-e5e405979596",
   "metadata": {},
   "outputs": [],
   "source": []
  }
 ],
 "metadata": {
  "kernelspec": {
   "display_name": "Python 3 (ipykernel)",
   "language": "python",
   "name": "python3"
  },
  "language_info": {
   "codemirror_mode": {
    "name": "ipython",
    "version": 3
   },
   "file_extension": ".py",
   "mimetype": "text/x-python",
   "name": "python",
   "nbconvert_exporter": "python",
   "pygments_lexer": "ipython3",
   "version": "3.8.10"
  }
 },
 "nbformat": 4,
 "nbformat_minor": 5
}
