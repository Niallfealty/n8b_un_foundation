{
 "cells": [
  {
   "cell_type": "markdown",
   "id": "bc96b648-bc11-46af-8bee-2ee4e9446253",
   "metadata": {},
   "source": [
    "# Finding the next 8Bn\n",
    "\n",
    "This notebook is for working out the timescales for the next 8 bn.\n",
    "\n",
    "We have to do some (very basic) modelling to extend out the forecast to estimate when some of them will hit 8Bn, with an open question over the UNPD Low scenario"
   ]
  },
  {
   "cell_type": "code",
   "execution_count": 1,
   "id": "0b3a1ea9-d474-47f1-885a-7270d9aa9721",
   "metadata": {
    "tags": []
   },
   "outputs": [],
   "source": [
    "from matplotlib import pyplot as plt\n",
    "from pandas import DataFrame, concat, read_csv\n",
    "from statsmodels.tsa.ar_model import AutoReg\n",
    "\n",
    "import seaborn as sns\n",
    "import os"
   ]
  },
  {
   "cell_type": "code",
   "execution_count": 2,
   "id": "297929fe-6349-41be-ab10-4f05f0ba7137",
   "metadata": {
    "tags": []
   },
   "outputs": [],
   "source": [
    "\"\"\" Functions for extending projections on the basis of an AR(N) model\n",
    "\"\"\"\n",
    "\n",
    "def df_extender(df, **cols_to_input):\n",
    "    ''' Generate a dataframe that extends the input\n",
    "\n",
    "        df: original dataframe\n",
    "        cols_to_input: key/val of colnames, lists of data\n",
    "\n",
    "        everything not in cols_to_input is copied from first val\n",
    "    '''\n",
    "    new_cols = [c for c in df.columns if c not in cols_to_input.keys()]\n",
    "    base_df = DataFrame(cols_to_input,\n",
    "            columns=df.columns)\n",
    "    for col in new_cols:\n",
    "        base_df[col] = df[col].iloc[0]\n",
    "\n",
    "    return base_df\n",
    "\n",
    "def extend_ar(grouped_df,\n",
    "        lags,\n",
    "        values_col=\"val\",\n",
    "        year_col=\"year_id\",\n",
    "        extrapolation_length=10):\n",
    "    ''' Take a DF grouped by the scenario so we have a single timeseries\n",
    "        and add an extra @n steps using an AR(lags) model\n",
    "        don't rely on this for a long extrapolation with further analysis\n",
    "    '''\n",
    "    ts_len, df_cols = grouped_df.shape\n",
    "    final_year_df = grouped_df[year_col].max()\n",
    "    final_year_predict = final_year_df + extrapolation_length\n",
    "    new_years = [year for year in range(final_year_df+1, final_year_predict+1)]\n",
    "\n",
    "    ar_model = AutoReg(grouped_df[values_col].to_numpy(), lags=lags).fit()\n",
    "    new_datapoints = ar_model.predict(ts_len, ts_len+extrapolation_length-1)\n",
    "    new_fields = {values_col: new_datapoints, year_col: new_years}\n",
    "\n",
    "    return concat([grouped_df, \n",
    "        df_extender(grouped_df, **new_fields)]\n",
    "        )\n"
   ]
  },
  {
   "cell_type": "code",
   "execution_count": null,
   "id": "14b45de9-e5f5-452f-93fc-0df6b57c7c4d",
   "metadata": {},
   "outputs": [],
   "source": []
  }
 ],
 "metadata": {
  "kernelspec": {
   "display_name": "Python 3 (ipykernel)",
   "language": "python",
   "name": "python3"
  },
  "language_info": {
   "codemirror_mode": {
    "name": "ipython",
    "version": 3
   },
   "file_extension": ".py",
   "mimetype": "text/x-python",
   "name": "python",
   "nbconvert_exporter": "python",
   "pygments_lexer": "ipython3",
   "version": "3.8.10"
  }
 },
 "nbformat": 4,
 "nbformat_minor": 5
}
